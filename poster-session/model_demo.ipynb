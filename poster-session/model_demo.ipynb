{
 "cells": [
  {
   "cell_type": "markdown",
   "metadata": {},
   "source": [
    "# Demo of Model"
   ]
  },
  {
   "cell_type": "code",
   "execution_count": 3,
   "metadata": {},
   "outputs": [],
   "source": [
    "import sys\n",
    "\n",
    "sys.path.append(\"../\")\n",
    "sys.path.append(\"../rllab-curriculum-master\")\n",
    "\n",
    "from baselines.ppo2 import ppo2\n",
    "from env_wrapper_rllab_to_openai import WrappedPointMazeEnv\n",
    "\n"
   ]
  },
  {
   "cell_type": "code",
   "execution_count": null,
   "metadata": {},
   "outputs": [],
   "source": [
    "outer = 400\n",
    "# get all arguments\n",
    "\n",
    "eval_runs = 0\n",
    "max_env_timestep = 500\n",
    "do_rendering = True\n",
    "sampling_method = \"uniform\"\n",
    "steps_per_curriculum = 50000\n",
    "nsteps = 50000\n",
    "total_timesteps = outer_iter * steps_per_curriculum\n",
    "save_interval = 0\n",
    "verbose = True\n",
    "seed = 42\n",
    "sample_on_goal_area = False"
   ]
  },
  {
   "cell_type": "code",
   "execution_count": null,
   "metadata": {},
   "outputs": [],
   "source": [
    "model_path = \"model/good_model\"\n",
    "\n",
    "\n",
    "# initialize environment\n",
    "env = WrappedPointMazeEnv()\n",
    "env.post_init(eval_runs=eval_runs, max_env_timestep=max_env_timestep, do_rendering=do_rendering,\n",
    "              sampling_method=sampling_method,\n",
    "              steps_per_curriculum=steps_per_curriculum,\n",
    "              verbose=verbose,\n",
    "              sample_on_goal_area=sample_on_goal_area,\n",
    "              model_file_path=model_file_path,\n",
    "              eval_starts_file_name=eval_starts_file_name,\n",
    "              eval_results_file_name=eval_results_file_name)\n",
    "\n",
    "# train model\n",
    "model = ppo2.learn(network='mlp',\n",
    "                   load_path=model_path,\n",
    "                   env=env,\n",
    "                   save_interval=save_interval,\n",
    "                   total_timesteps=total_timesteps,\n",
    "                   nsteps=nsteps,\n",
    "                   nminibatches=1,\n",
    "                   num_layers=2,\n",
    "                   num_hidden=64,\n",
    "                   activation=tf.nn.relu,\n",
    "                   gamma=0.998,\n",
    "                   lr=0.01,\n",
    "                   seed=seed)\n"
   ]
  },
  {
   "cell_type": "code",
   "execution_count": null,
   "metadata": {},
   "outputs": [],
   "source": []
  }
 ],
 "metadata": {
  "kernelspec": {
   "display_name": "Python 3",
   "language": "python",
   "name": "python3"
  },
  "language_info": {
   "codemirror_mode": {
    "name": "ipython",
    "version": 3
   },
   "file_extension": ".py",
   "mimetype": "text/x-python",
   "name": "python",
   "nbconvert_exporter": "python",
   "pygments_lexer": "ipython3",
   "version": "3.5.2"
  },
  "widgets": {
   "state": {},
   "version": "1.1.2"
  }
 },
 "nbformat": 4,
 "nbformat_minor": 2
}
