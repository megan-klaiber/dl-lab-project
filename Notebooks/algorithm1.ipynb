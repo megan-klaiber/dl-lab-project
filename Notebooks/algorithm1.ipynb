{
 "cells": [
  {
   "cell_type": "code",
   "execution_count": 1,
   "metadata": {},
   "outputs": [],
   "source": [
    "import random\n",
    "import numpy as np\n",
    "import matplotlib.pyplot as plt"
   ]
  },
  {
   "cell_type": "code",
   "execution_count": 2,
   "metadata": {},
   "outputs": [],
   "source": [
    "start = np.array([[2, 3], [1, 4],[1, 4],[1, 4],[1, 4],[1, 4],[1, 4],[1, 4],[1, 4],[1, 4]])"
   ]
  },
  {
   "cell_type": "code",
   "execution_count": 3,
   "metadata": {},
   "outputs": [],
   "source": [
    "def sample(elements, n):\n",
    "    samples = []\n",
    "    while(len(samples) < n):\n",
    "        samples.append(random.choice(elements))\n",
    "    return np.array(samples)"
   ]
  },
  {
   "cell_type": "code",
   "execution_count": 4,
   "metadata": {},
   "outputs": [
    {
     "name": "stdout",
     "output_type": "stream",
     "text": [
      "[[1 4]\n",
      " [1 4]\n",
      " [1 4]\n",
      " [1 4]\n",
      " [1 4]]\n"
     ]
    }
   ],
   "source": [
    "samples = sample(start, 5)\n",
    "print(samples)"
   ]
  },
  {
   "cell_type": "code",
   "execution_count": 5,
   "metadata": {},
   "outputs": [],
   "source": [
    "def sample_uniform(elements, n=1):\n",
    "    # remove duplicates\n",
    "    elements_unique = np.unique(elements, axis=0)\n",
    "    return sample(elements_unique, n)"
   ]
  },
  {
   "cell_type": "code",
   "execution_count": 6,
   "metadata": {
    "scrolled": true
   },
   "outputs": [
    {
     "name": "stdout",
     "output_type": "stream",
     "text": [
      "[[1 4]\n",
      " [2 3]\n",
      " [2 3]\n",
      " [2 3]\n",
      " [2 3]\n",
      " [2 3]\n",
      " [1 4]\n",
      " [1 4]\n",
      " [1 4]\n",
      " [2 3]]\n"
     ]
    }
   ],
   "source": [
    "samples_uni = sample_uniform(start, 10)\n",
    "print(samples_uni)"
   ]
  },
  {
   "cell_type": "code",
   "execution_count": null,
   "metadata": {},
   "outputs": [],
   "source": []
  },
  {
   "cell_type": "code",
   "execution_count": 7,
   "metadata": {},
   "outputs": [],
   "source": [
    "def transition(state, action):\n",
    "    noise = np.random.normal(0, 0.01)\n",
    "    return state + action# + noise\n",
    "\n",
    "# T_B: how many actions should be performed from one start sample\n",
    "# M:   how many starts to put in the replay buffer\n",
    "\n",
    "\n",
    "def sample_nearby(elements, N_new, cov=0.1, T_B=3, M=30):\n",
    "    starts = np.array(elements)\n",
    "    set_count = 0\n",
    "    colors = [\"blue\", \"orange\", \"green\", \"black\"]\n",
    "    while(len(starts) < M):\n",
    "        s = sample_uniform(starts);\n",
    "        plt.scatter(s[0,0], s[0,1], marker=\"<\", s=100)# c=\"blue\")\n",
    "        trajectory = np.array(s)\n",
    "        for t in range(0, T_B):\n",
    "            a_t = np.random.normal(0, cov, size=2)\n",
    "            s = transition(s, a_t)\n",
    "            \n",
    "            plt.scatter(s[0,0], s[0,1], marker=\"x\", s=25, c=colors[set_count])\n",
    "            trajectory = np.append(trajectory, s, axis=0)\n",
    "            starts = np.append(starts, s, axis=0)\n",
    "        # print(trajectory.shape)\n",
    "        plt.plot(trajectory[:,0], trajectory[:,1], linewidth=2)\n",
    "        set_count += 1 \n",
    "    starts_new = sample(starts, N_new)\n",
    "    return starts_new"
   ]
  },
  {
   "cell_type": "code",
   "execution_count": 8,
   "metadata": {},
   "outputs": [
    {
     "data": {
      "image/png": "[encoded data removed]",
      "text/plain": [
       "<Figure size 432x288 with 1 Axes>"
      ]
     },
     "metadata": {
      "needs_background": "light"
     },
     "output_type": "display_data"
    }
   ],
   "source": [
    "start = np.array([[0, 0]])\n",
    "\n",
    "nearby_samples = sample_nearby(start, 15, T_B=5, M=16)\n",
    "# print(nearby_samples)\n",
    "\n",
    "plt.title(\"Sampling with Brownian Motion\")\n",
    "plt.grid()\n",
    "plt.xlabel(\"x\")\n",
    "plt.ylabel(\"y\")\n",
    "plt.savefig(\"../poster/images/sampling_with_brownian_motion.pdf\")\n",
    "plt.savefig(\"../poster/images/sampling_with_brownian_motion.jpg\")\n",
    "plt.savefig(\"../poster/images/sampling_with_brownian_motion.svg\")\n",
    "plt.show()\n",
    "# plt.xlim(-0.2, 0.2)\n",
    "# plt.ylim(-0.2, 0.2)\n",
    "\n",
    "\n",
    "## only 3 directories\n",
    "## startpunkt andere Form\n",
    "## Punkte entlang einer Trajektorie gleichfarbig\n",
    "## Erster Punkt einer Trajektorie hervorheben\n"
   ]
  },
  {
   "cell_type": "code",
   "execution_count": null,
   "metadata": {},
   "outputs": [],
   "source": []
  },
  {
   "cell_type": "code",
   "execution_count": null,
   "metadata": {},
   "outputs": [],
   "source": [
    "def train_policy(rho, policy):\n",
    "    \n",
    "    return policy"
   ]
  },
  {
   "cell_type": "code",
   "execution_count": null,
   "metadata": {},
   "outputs": [],
   "source": [
    "############################################\n",
    "###### Algorithm 1: Policy Training ########\n",
    "############################################\n",
    "#\n",
    "#   Input:  policy, s_g, rho_0, N_new, N_old, R_min, R_max, Iter\n",
    "#   policy: initial policy\n",
    "#   s_g:    goal state\n",
    "#   rho_0:  initial start distribution\n",
    "#   N_new:  number of new starts\n",
    "#   N_old:  number of old starts\n",
    "#   R_min:  TODO\n",
    "#   R_max:  TODO\n",
    "#   Iter:   TODO\n",
    "#\n",
    "#\n",
    "############################################\n",
    "def policy_training(policy, s_g, rho_0, N_new, N_old, R_min, R_max, Iter, batch_size = 64):\n",
    "    starts_old = [goal_state] # TODO: adapt to more than one goal state\n",
    "    start_rews = [[goal_state, 1]]\n",
    "\n",
    "    for i in range(Iter):\n",
    "        starts = sample_nearby(starts, N_new)\n",
    "        starts.append(sample(starts_old, N_old))\n",
    "        rho = sample_uniform(starts, batch_size) # TODO: function that uniformly samples from all valid starts\n",
    "        policy, start_rews = train_policy(rho, policy)\n",
    "        starts = select(start_rews, R_min, R_max)\n",
    "        starts_old.append(starts)\n",
    "\n",
    "    return policy"
   ]
  },
  {
   "cell_type": "code",
   "execution_count": null,
   "metadata": {},
   "outputs": [],
   "source": []
  }
 ],
 "metadata": {
  "kernelspec": {
   "display_name": "Python 3",
   "language": "python",
   "name": "python3"
  },
  "language_info": {
   "codemirror_mode": {
    "name": "ipython",
    "version": 3
   },
   "file_extension": ".py",
   "mimetype": "text/x-python",
   "name": "python",
   "nbconvert_exporter": "python",
   "pygments_lexer": "ipython3",
   "version": "3.6.8"
  },
  "widgets": {
   "state": {},
   "version": "1.1.2"
  }
 },
 "nbformat": 4,
 "nbformat_minor": 2
}
